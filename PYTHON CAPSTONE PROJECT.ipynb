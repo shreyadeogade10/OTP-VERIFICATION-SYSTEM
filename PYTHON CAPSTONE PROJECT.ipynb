{
 "cells": [
  {
   "cell_type": "code",
   "execution_count": null,
   "id": "37c9e56f",
   "metadata": {},
   "outputs": [],
   "source": [
    "# PROJECT TITLE - OTP VERIFICATION SYSTEM"
   ]
  },
  {
   "cell_type": "code",
   "execution_count": null,
   "id": "7d38735f",
   "metadata": {},
   "outputs": [],
   "source": [
    "# 1. IMPORTING ALL THE NECESSARY LIBRARIES"
   ]
  },
  {
   "cell_type": "code",
   "execution_count": 2,
   "id": "9799b6d8",
   "metadata": {},
   "outputs": [],
   "source": [
    "import smtplib\n",
    "import random\n",
    "from email.mime.text import MIMEText\n",
    "from email.mime.multipart import MIMEMultipart"
   ]
  },
  {
   "cell_type": "code",
   "execution_count": null,
   "id": "653b5eb3",
   "metadata": {},
   "outputs": [],
   "source": [
    "# SMTP(Simple mail transfer protocol) is a python library use to send the mails \n",
    "# random is to generate random numbers.\n",
    "# MIMEText and MIMEmultipart : these are the classes from email.mime module to create and manipulate email messages with text and attachments,etc"
   ]
  },
  {
   "cell_type": "code",
   "execution_count": null,
   "id": "50f56050",
   "metadata": {},
   "outputs": [],
   "source": [
    "# 2. OTP GENERATION FUNCTION"
   ]
  },
  {
   "cell_type": "code",
   "execution_count": 3,
   "id": "acac0917",
   "metadata": {},
   "outputs": [],
   "source": [
    "# function to generate a 6-digit otp randomly \n",
    "def generate_otp():\n",
    "    return str(random.randint(100000, 999999))\n",
    "# this otp will be sent to the user's email for verification"
   ]
  },
  {
   "cell_type": "code",
   "execution_count": null,
   "id": "98998cd8",
   "metadata": {},
   "outputs": [],
   "source": [
    "#3.FUNCTION TO SEND OTP TO USERS EMAIL"
   ]
  },
  {
   "cell_type": "code",
   "execution_count": 4,
   "id": "6d8411e3",
   "metadata": {},
   "outputs": [],
   "source": [
    "def send_otp(receiver_email, otp):\n",
    "    sender_email = \"shreyadeogade@outlook.com\"  \n",
    "    sender_password = \"Shreya@123\" \n",
    "    subject = \"Your OTP Code\"\n",
    "    body = f\"Your OTP code is {otp}\"\n",
    "\n",
    "    msg = MIMEMultipart()\n",
    "    msg['From'] = sender_email    #setting the sender,receiver and the subject of the email\n",
    "    msg['To'] = receiver_email\n",
    "    msg['Subject'] = subject\n",
    "\n",
    "# attaching the plain text body to the email.\n",
    "\n",
    "    msg.attach(MIMEText(body, 'plain'))\n",
    "\n",
    "    try:\n",
    "        server = smtplib.SMTP('smtp-mail.outlook.com', 587)  #connecting to the outlook SMTP server\n",
    "        server.starttls()                 #starting TLS encryption for the email transmission.\n",
    "        server.login(sender_email, sender_password)  # logging into smtp server \n",
    "        text = msg.as_string()   # converting MIMEMultipart object to a string\n",
    "        server.sendmail(sender_email, receiver_email, text) # sending the email\n",
    "        server.quit()     # closing the connection\n",
    "        print(f\"OTP sent to {receiver_email}\")\n",
    "    except Exception as e:   # handling exceptions that occur during email sending process and printing the error message\n",
    "        print(f\"Error sending OTP: {e}\")"
   ]
  },
  {
   "cell_type": "code",
   "execution_count": null,
   "id": "8289c175",
   "metadata": {},
   "outputs": [],
   "source": [
    "# 4.FUNCTION TO PROMPT THE USER FOR OTP"
   ]
  },
  {
   "cell_type": "code",
   "execution_count": 5,
   "id": "be51baf6",
   "metadata": {},
   "outputs": [],
   "source": [
    "# function to prompt the user to enter the otp received in their email\n",
    "def prompt_user_for_otp():\n",
    "    return input(\"Enter the OTP you received: \") # returns the entered value"
   ]
  },
  {
   "cell_type": "code",
   "execution_count": null,
   "id": "d9daa25c",
   "metadata": {},
   "outputs": [],
   "source": [
    "# 5.FUNCTION TO VERIFY OTP"
   ]
  },
  {
   "cell_type": "code",
   "execution_count": 8,
   "id": "e4a7c5ef",
   "metadata": {},
   "outputs": [],
   "source": [
    "# checking whether the entered otp matches the generated otp\n",
    "def verify_otp(generated_otp, entered_otp):\n",
    "    return generated_otp == entered_otp\n",
    "# returns true if it matches, otherwise false"
   ]
  },
  {
   "cell_type": "code",
   "execution_count": null,
   "id": "e55184c6",
   "metadata": {},
   "outputs": [],
   "source": [
    "# 6.FUNCTION TO RUN THE OTP VERIFICATION SYSTEM  "
   ]
  },
  {
   "cell_type": "code",
   "execution_count": 7,
   "id": "1d0af381",
   "metadata": {},
   "outputs": [
    {
     "name": "stdout",
     "output_type": "stream",
     "text": [
      "Enter your email address: shreyadeogade@outlook.com\n",
      "OTP sent to shreyadeogade@outlook.com\n",
      "Enter the OTP you received: 471558\n",
      "Access granted.\n"
     ]
    }
   ],
   "source": [
    "def otp_verification_system():\n",
    "    user_email = input(\"Enter your email address: \")  # asking user to enter thier mail\n",
    "    generated_otp = generate_otp()         #generating the otp\n",
    "    send_otp(user_email, generated_otp)    #sending the otp to the mail\n",
    "\n",
    "    max_attempts = 3 \n",
    "    attempts = 0\n",
    "\n",
    "    while attempts < max_attempts:\n",
    "        entered_otp = prompt_user_for_otp()  #prompting the user to enter the otp\n",
    "        if verify_otp(generated_otp, entered_otp):  #checking if the entered otp matches the genrated otp\n",
    "            print(\"Access granted.\")\n",
    "            return\n",
    "        else:    \n",
    "            attempts += 1\n",
    "            print(f\"Incorrect OTP. You have {max_attempts - attempts} attempts left.\")\n",
    "\n",
    "    print(\"Access denied. Too many incorrect attempts.\")\n",
    "\n",
    "if __name__ == \"__main__\":\n",
    "    otp_verification_system()"
   ]
  }
 ],
 "metadata": {
  "kernelspec": {
   "display_name": "Python 3 (ipykernel)",
   "language": "python",
   "name": "python3"
  },
  "language_info": {
   "codemirror_mode": {
    "name": "ipython",
    "version": 3
   },
   "file_extension": ".py",
   "mimetype": "text/x-python",
   "name": "python",
   "nbconvert_exporter": "python",
   "pygments_lexer": "ipython3",
   "version": "3.9.12"
  }
 },
 "nbformat": 4,
 "nbformat_minor": 5
}
